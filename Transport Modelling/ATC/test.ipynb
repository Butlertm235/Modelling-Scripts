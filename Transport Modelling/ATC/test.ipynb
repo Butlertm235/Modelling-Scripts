{
 "cells": [
  {
   "attachments": {},
   "cell_type": "markdown",
   "metadata": {},
   "source": [
    "## Import modules"
   ]
  },
  {
   "cell_type": "code",
   "execution_count": 2,
   "metadata": {},
   "outputs": [],
   "source": [
    "import pandas as pd\n",
    "from pytris.models import Site\n",
    "from pytris import API"
   ]
  },
  {
   "attachments": {},
   "cell_type": "markdown",
   "metadata": {},
   "source": [
    "## Create connection to API"
   ]
  },
  {
   "cell_type": "code",
   "execution_count": 3,
   "metadata": {},
   "outputs": [],
   "source": [
    "api = API()\n",
    "sites = api.sites()\n",
    "daily = api.daily_reports()"
   ]
  },
  {
   "attachments": {},
   "cell_type": "markdown",
   "metadata": {},
   "source": [
    "## Extract site list"
   ]
  },
  {
   "cell_type": "code",
   "execution_count": null,
   "metadata": {},
   "outputs": [],
   "source": [
    "#Create empty dataframe\n",
    "site_list = pd.DataFrame(columns=[\"id\",\"name\",\"description\",\"longitude\",\"latitude\",\"status\"])\n",
    "\n",
    "for site in sites.all():\n",
    "    # Append information from each site to the df\n",
    "    site_list = site_list.append({\"id\":site.id,\"name\":site.name,\"description\":site.description,\"longitude\":site.longitude,\"latitude\":site.latitude,\"status\":site.status},ignore_index=True)\n",
    "export_csv=site_list.to_csv(\"site_list.csv\")"
   ]
  },
  {
   "attachments": {},
   "cell_type": "markdown",
   "metadata": {},
   "source": [
    "## Daily report"
   ]
  },
  {
   "cell_type": "code",
   "execution_count": 4,
   "metadata": {},
   "outputs": [
    {
     "name": "stdout",
     "output_type": "stream",
     "text": [
      "Requesting http://webtris.highwaysengland.co.uk/api/v1.0/reports/daily?page=1&page_size=200&sites=13825&start_date=01012019&end_date=31122019\n",
      "Requesting http://webtris.highwaysengland.co.uk/api/v1.0/reports/daily?page=1&page_size=200&sites=13826&start_date=01012019&end_date=31122019\n",
      "Requesting http://webtris.highwaysengland.co.uk/api/v1.0/reports/daily?page=1&page_size=200&sites=13827&start_date=01012019&end_date=31122019\n",
      "Requesting http://webtris.highwaysengland.co.uk/api/v1.0/reports/daily?page=1&page_size=200&sites=13919&start_date=01012019&end_date=31122019\n",
      "Requesting http://webtris.highwaysengland.co.uk/api/v1.0/reports/daily?page=1&page_size=200&sites=13995&start_date=01012019&end_date=31122019\n",
      "Requesting http://webtris.highwaysengland.co.uk/api/v1.0/reports/daily?page=1&page_size=200&sites=14013&start_date=01012019&end_date=31122019\n",
      "Requesting http://webtris.highwaysengland.co.uk/api/v1.0/reports/daily?page=1&page_size=200&sites=14027&start_date=01012019&end_date=31122019\n"
     ]
    }
   ],
   "source": [
    "##INPUTS\n",
    "#List of WebTRIS sites to download\n",
    "WebTRIS_sites = [13825,13826,13827,13919,13995,14013,14027]\n",
    "#Start and end dates, as a string and in \"DDMMYYYY\" format\n",
    "date_start ='01012019'\n",
    "date_end ='31122019'\n",
    "\n",
    "api = API()\n",
    "\n",
    "for i in WebTRIS_sites:\n",
    "    try:\n",
    "        result = daily.get(sites=str(i), start_date=date_start, end_date=date_end)\n",
    "        df = result.to_frame()\n",
    "        df[\"site\"] = i\n",
    "        df[\"Report Date\"] = pd.to_datetime(df[\"Report Date\"])\n",
    "        export_csv = df.to_csv(\"WebTRIS_site_\"+str(i)+\".csv\")\n",
    "    except:\n",
    "        pass\n"
   ]
  }
 ],
 "metadata": {
  "kernelspec": {
   "display_name": "base",
   "language": "python",
   "name": "python3"
  },
  "language_info": {
   "codemirror_mode": {
    "name": "ipython",
    "version": 3
   },
   "file_extension": ".py",
   "mimetype": "text/x-python",
   "name": "python",
   "nbconvert_exporter": "python",
   "pygments_lexer": "ipython3",
   "version": "3.8.8"
  },
  "orig_nbformat": 4
 },
 "nbformat": 4,
 "nbformat_minor": 2
}
